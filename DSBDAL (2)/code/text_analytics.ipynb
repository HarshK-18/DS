{
  "cells": [
    {
      "cell_type": "code",
      "execution_count": 15,
      "metadata": {
        "colab": {
          "base_uri": "https://localhost:8080/"
        },
        "id": "Dl4O1PsmtvuQ",
        "outputId": "5c2eafe2-212e-45cb-f4b2-3aa78ed2d995"
      },
      "outputs": [
        {
          "name": "stderr",
          "output_type": "stream",
          "text": [
            "[nltk_data] Downloading package punkt to\n",
            "[nltk_data]     C:\\Users\\jgdod\\AppData\\Roaming\\nltk_data...\n",
            "[nltk_data]   Package punkt is already up-to-date!\n",
            "[nltk_data] Downloading package stopwords to\n",
            "[nltk_data]     C:\\Users\\jgdod\\AppData\\Roaming\\nltk_data...\n",
            "[nltk_data]   Package stopwords is already up-to-date!\n",
            "[nltk_data] Downloading package wordnet to\n",
            "[nltk_data]     C:\\Users\\jgdod\\AppData\\Roaming\\nltk_data...\n",
            "[nltk_data]   Package wordnet is already up-to-date!\n",
            "[nltk_data] Downloading package averaged_perceptron_tagger to\n",
            "[nltk_data]     C:\\Users\\jgdod\\AppData\\Roaming\\nltk_data...\n",
            "[nltk_data]   Package averaged_perceptron_tagger is already up-to-\n",
            "[nltk_data]       date!\n"
          ]
        },
        {
          "data": {
            "text/plain": [
              "True"
            ]
          },
          "execution_count": 15,
          "metadata": {},
          "output_type": "execute_result"
        }
      ],
      "source": [
        "import nltk\n",
        "nltk.download('punkt')\n",
        "nltk.download('stopwords')\n",
        "nltk.download('wordnet')\n",
        "nltk.download('averaged_perceptron_tagger')"
      ]
    },
    {
      "cell_type": "code",
      "execution_count": 16,
      "metadata": {
        "id": "pVQz2U6IzhNX"
      },
      "outputs": [],
      "source": [
        "text= \"Tokenization is the first step in text analytics. The process of breaking down a text paragraph into smaller chunks such as words or sentences is called Tokenization.\""
      ]
    },
    {
      "cell_type": "code",
      "execution_count": 17,
      "metadata": {
        "colab": {
          "base_uri": "https://localhost:8080/"
        },
        "id": "gP_F6Nspz4ze",
        "outputId": "a3245864-4a71-4b3f-d8e5-2149628c5c21"
      },
      "outputs": [
        {
          "name": "stdout",
          "output_type": "stream",
          "text": [
            "['Tokenization is the first step in text analytics.', 'The process of breaking down a text paragraph into smaller chunks such as words or sentences is called Tokenization.']\n"
          ]
        }
      ],
      "source": [
        "from nltk.tokenize import sent_tokenize\n",
        "tokenized_text= sent_tokenize(text)\n",
        "print(tokenized_text)"
      ]
    },
    {
      "cell_type": "code",
      "execution_count": 18,
      "metadata": {
        "colab": {
          "base_uri": "https://localhost:8080/"
        },
        "id": "Ktgs8rCi0Cu-",
        "outputId": "91055611-1a7e-41bf-fddd-3b5f9e134e8d"
      },
      "outputs": [
        {
          "name": "stdout",
          "output_type": "stream",
          "text": [
            "['Tokenization', 'is', 'the', 'first', 'step', 'in', 'text', 'analytics', '.', 'The', 'process', 'of', 'breaking', 'down', 'a', 'text', 'paragraph', 'into', 'smaller', 'chunks', 'such', 'as', 'words', 'or', 'sentences', 'is', 'called', 'Tokenization', '.']\n"
          ]
        }
      ],
      "source": [
        "from nltk.tokenize import word_tokenize\n",
        "tokenized_word=word_tokenize(text)\n",
        "print(tokenized_word)"
      ]
    },
    {
      "cell_type": "code",
      "execution_count": 19,
      "metadata": {
        "colab": {
          "base_uri": "https://localhost:8080/"
        },
        "id": "2F-Y5URZ0JLG",
        "outputId": "f0e6a9f8-53ec-4d5c-f1cd-8a9ab6f6a724"
      },
      "outputs": [
        {
          "name": "stdout",
          "output_type": "stream",
          "text": [
            "{'above', 'themselves', 'but', 'isn', 'an', 'which', 'by', \"isn't\", 'doesn', 'both', 'o', 'so', 've', 'while', \"she's\", 'who', 'my', 't', 'yourself', \"needn't\", 'that', 'same', 'through', 'into', \"you're\", \"hadn't\", 'him', 'about', 'because', 'had', 'me', 'below', \"you'd\", 'mightn', 'ain', 'll', 'and', 'will', 'now', 'further', 'in', \"won't\", 'd', 'wasn', 'before', \"shan't\", 'a', 'until', 'theirs', 're', 'hadn', 'himself', 'couldn', 'is', 'having', 'do', 'been', 'own', 'hasn', 'their', 'don', 'ours', 'all', 'to', 'has', \"should've\", \"mustn't\", 'other', 'yours', 'it', 'i', 'can', 'hers', 'not', \"shouldn't\", 'for', 'here', 'your', 'against', 'these', 'few', \"haven't\", 'what', 'won', 'the', 'should', 'only', 'from', \"mightn't\", 'm', 'ourselves', 'out', 'under', 'as', 'when', \"wouldn't\", 'then', 'them', 'how', \"you'll\", 'are', 'being', 'they', 's', 'any', 'why', 'or', 'weren', 'there', \"wasn't\", 'if', 'during', 'some', \"don't\", 'between', 'just', \"couldn't\", 'itself', 'nor', 'her', \"doesn't\", 'again', 'y', 'such', 'very', \"weren't\", 'at', 'this', 'his', 'our', 'up', 'too', 'did', 'with', 'over', \"aren't\", 'we', \"you've\", 'off', \"it's\", 'you', 'yourselves', 'its', \"hasn't\", \"that'll\", 'needn', 'wouldn', 'of', 'more', 'down', 'once', 'ma', 'most', 'those', 'didn', 'does', 'doing', 'were', 'be', \"didn't\", 'aren', 'mustn', 'than', 'shouldn', 'herself', 'where', 'each', 'have', 'no', 'haven', 'am', 'myself', 'was', 'she', 'shan', 'on', 'after', 'he', 'whom'}\n",
            "Tokenized Sentence: ['how', 'to', 'remove', 'stop', 'words', 'with', 'nltk', 'library', 'in', 'python']\n",
            "Filterd Sentence: ['remove', 'stop', 'words', 'nltk', 'library', 'python']\n"
          ]
        }
      ],
      "source": [
        "import re\n",
        "from nltk.corpus import stopwords\n",
        "stop_words=set(stopwords.words(\"english\"))\n",
        "print(stop_words)\n",
        "text= \"How to remove stop words with NLTK library in Python?\"\n",
        "text= re.sub('[^a-zA-Z]', ' ',text)\n",
        "tokens = word_tokenize(text.lower())\n",
        "filtered_text=[]\n",
        "for w in tokens:\n",
        "  if w not in stop_words:\n",
        "    filtered_text.append(w)\n",
        "print(\"Tokenized Sentence:\",tokens)\n",
        "print(\"Filterd Sentence:\",filtered_text)"
      ]
    },
    {
      "cell_type": "code",
      "execution_count": 20,
      "metadata": {
        "colab": {
          "base_uri": "https://localhost:8080/"
        },
        "id": "erL0Wcb_5sd2",
        "outputId": "352c080c-bb89-4c35-935c-84e22e430449"
      },
      "outputs": [
        {
          "name": "stdout",
          "output_type": "stream",
          "text": [
            "wait\n"
          ]
        }
      ],
      "source": [
        "from nltk.stem import PorterStemmer\n",
        "e_words= [\"wait\", \"waiting\", \"waited\", \"waits\"]\n",
        "ps =PorterStemmer()\n",
        "for w in e_words:\n",
        "  rootWord=ps.stem(w)\n",
        "print(rootWord)"
      ]
    },
    {
      "cell_type": "code",
      "execution_count": 21,
      "metadata": {
        "colab": {
          "base_uri": "https://localhost:8080/"
        },
        "id": "qlw27Ram6Kk9",
        "outputId": "6e822945-bd4c-4a73-fbc8-aeb669cffcf9"
      },
      "outputs": [
        {
          "name": "stdout",
          "output_type": "stream",
          "text": [
            "Lemma for studies is study\n",
            "Lemma for studying is studying\n",
            "Lemma for cries is cry\n",
            "Lemma for cry is cry\n"
          ]
        }
      ],
      "source": [
        "from nltk.stem import WordNetLemmatizer\n",
        "wordnet_lemmatizer = WordNetLemmatizer()\n",
        "text = \"studies studying cries cry\"\n",
        "tokenization = nltk.word_tokenize(text)\n",
        "for w in tokenization:\n",
        "  print(\"Lemma for {} is {}\".format(w,wordnet_lemmatizer.lemmatize(w)))"
      ]
    },
    {
      "cell_type": "code",
      "execution_count": 22,
      "metadata": {
        "colab": {
          "base_uri": "https://localhost:8080/"
        },
        "id": "bQrt4qTO6lmW",
        "outputId": "9b310d4b-e30f-45c0-e24a-6769ab97088d"
      },
      "outputs": [
        {
          "name": "stdout",
          "output_type": "stream",
          "text": [
            "[('The', 'DT')]\n",
            "[('pink', 'NN')]\n",
            "[('sweater', 'NN')]\n",
            "[('fit', 'NN')]\n",
            "[('her', 'PRP$')]\n",
            "[('perfectly', 'RB')]\n"
          ]
        }
      ],
      "source": [
        "from nltk.tokenize import word_tokenize\n",
        "data=\"The pink sweater fit her perfectly\"\n",
        "words=word_tokenize(data)\n",
        "for word in words:\n",
        "  print(nltk.pos_tag([word]))"
      ]
    },
    {
      "cell_type": "markdown",
      "metadata": {
        "id": "2RfZIxsp4Jxi"
      },
      "source": [
        "Algorithm for Create representation of document by calculating TFIDF"
      ]
    },
    {
      "cell_type": "markdown",
      "metadata": {
        "id": "U7dVx_T54K-u"
      },
      "source": [
        "Import the necessary libraries."
      ]
    },
    {
      "cell_type": "code",
      "execution_count": 23,
      "metadata": {
        "id": "72-n27Wl4QGd"
      },
      "outputs": [],
      "source": [
        "import pandas as pd\n",
        "from sklearn.feature_extraction.text import TfidfVectorizer"
      ]
    },
    {
      "cell_type": "markdown",
      "metadata": {
        "id": "ZJiccqRU4kkm"
      },
      "source": [
        "Initialize the Documents."
      ]
    },
    {
      "cell_type": "code",
      "execution_count": 24,
      "metadata": {
        "id": "XKThgExD4lNR"
      },
      "outputs": [],
      "source": [
        "documentA = 'Jupiter is the largest Planet'\n",
        "documentB = 'Mars is the fourth planet from the Sun'"
      ]
    },
    {
      "cell_type": "markdown",
      "metadata": {
        "id": "4iQA_5Nu4pEF"
      },
      "source": [
        "Create BagofWords (BoW) for Document A and B."
      ]
    },
    {
      "cell_type": "code",
      "execution_count": 25,
      "metadata": {
        "id": "2rGXx7Xl4sqm"
      },
      "outputs": [],
      "source": [
        "bagOfWordsA = documentA.split(' ')\n",
        "bagOfWordsB = documentB.split(' ')"
      ]
    },
    {
      "cell_type": "markdown",
      "metadata": {
        "id": "KTvE0w674yEZ"
      },
      "source": [
        "Create Collection of Unique words from Document A and B."
      ]
    },
    {
      "cell_type": "code",
      "execution_count": 26,
      "metadata": {
        "id": "FdI0nj7M40xb"
      },
      "outputs": [],
      "source": [
        "uniqueWords = set(bagOfWordsA).union(set(bagOfWordsB))"
      ]
    },
    {
      "cell_type": "markdown",
      "metadata": {
        "id": "3IS6DqMr47R2"
      },
      "source": [
        "Create a dictionary of words and their occurrence for each document in the\n",
        "corpus"
      ]
    },
    {
      "cell_type": "code",
      "execution_count": 27,
      "metadata": {
        "id": "5s56-r7x5AE_"
      },
      "outputs": [],
      "source": [
        "numOfWordsA = dict.fromkeys(uniqueWords, 0)\n",
        "for word in bagOfWordsA:\n",
        "  numOfWordsA[word] += 1\n",
        "numOfWordsB = dict.fromkeys(uniqueWords, 0)\n",
        "for word in bagOfWordsB:\n",
        "  numOfWordsB[word] += 1\n"
      ]
    },
    {
      "cell_type": "markdown",
      "metadata": {
        "id": "Vof0PvDRLJn-"
      },
      "source": [
        "Compute the term frequency for each of our documents."
      ]
    },
    {
      "cell_type": "code",
      "execution_count": 28,
      "metadata": {
        "id": "eFdetMvFLNGi"
      },
      "outputs": [],
      "source": [
        "def computeTF(wordDict, bagOfWords):\n",
        "  tfDict = {}\n",
        "  bagOfWordsCount = len(bagOfWords)\n",
        "  for word, count in wordDict.items():\n",
        "    tfDict[word] = count / float(bagOfWordsCount)\n",
        "  return tfDict\n",
        "tfA = computeTF(numOfWordsA, bagOfWordsA)\n",
        "tfB = computeTF(numOfWordsB, bagOfWordsB)"
      ]
    },
    {
      "cell_type": "markdown",
      "metadata": {
        "id": "rRI43_KAMK6m"
      },
      "source": [
        "Compute the term Inverse Document Frequency."
      ]
    },
    {
      "cell_type": "code",
      "execution_count": 29,
      "metadata": {
        "colab": {
          "base_uri": "https://localhost:8080/"
        },
        "id": "kFQEEOVdMNxA",
        "outputId": "49154e07-7890-4433-c1af-38b2d60c870f"
      },
      "outputs": [
        {
          "data": {
            "text/plain": [
              "{'fourth': 0.6931471805599453,\n",
              " 'Sun': 0.6931471805599453,\n",
              " 'Planet': 0.6931471805599453,\n",
              " 'Jupiter': 0.6931471805599453,\n",
              " 'planet': 0.6931471805599453,\n",
              " 'Mars': 0.6931471805599453,\n",
              " 'largest': 0.6931471805599453,\n",
              " 'the': 0.0,\n",
              " 'from': 0.6931471805599453,\n",
              " 'is': 0.0}"
            ]
          },
          "execution_count": 29,
          "metadata": {},
          "output_type": "execute_result"
        }
      ],
      "source": [
        "def computeIDF(documents):\n",
        "  import math\n",
        "  N = len(documents)\n",
        "  idfDict = dict.fromkeys(documents[0].keys(), 0)\n",
        "  for document in documents:\n",
        "    for word, val in document.items():\n",
        "      if val > 0:\n",
        "        idfDict[word] += 1\n",
        "  for word, val in idfDict.items():\n",
        "    idfDict[word] = math.log(N / float(val))\n",
        "  return idfDict\n",
        "idfs = computeIDF([numOfWordsA, numOfWordsB])\n",
        "idfs"
      ]
    },
    {
      "cell_type": "markdown",
      "metadata": {
        "id": "47q_7mG9Mlrq"
      },
      "source": [
        "Compute the term TF/IDF for all words."
      ]
    },
    {
      "cell_type": "code",
      "execution_count": 30,
      "metadata": {
        "colab": {
          "base_uri": "https://localhost:8080/",
          "height": 112
        },
        "id": "9TJcy-QlMoNA",
        "outputId": "f994ac1e-8ec8-426a-a5de-11989d5ad673"
      },
      "outputs": [
        {
          "data": {
            "text/html": [
              "<div>\n",
              "<style scoped>\n",
              "    .dataframe tbody tr th:only-of-type {\n",
              "        vertical-align: middle;\n",
              "    }\n",
              "\n",
              "    .dataframe tbody tr th {\n",
              "        vertical-align: top;\n",
              "    }\n",
              "\n",
              "    .dataframe thead th {\n",
              "        text-align: right;\n",
              "    }\n",
              "</style>\n",
              "<table border=\"1\" class=\"dataframe\">\n",
              "  <thead>\n",
              "    <tr style=\"text-align: right;\">\n",
              "      <th></th>\n",
              "      <th>fourth</th>\n",
              "      <th>Sun</th>\n",
              "      <th>Planet</th>\n",
              "      <th>Jupiter</th>\n",
              "      <th>planet</th>\n",
              "      <th>Mars</th>\n",
              "      <th>largest</th>\n",
              "      <th>the</th>\n",
              "      <th>from</th>\n",
              "      <th>is</th>\n",
              "    </tr>\n",
              "  </thead>\n",
              "  <tbody>\n",
              "    <tr>\n",
              "      <th>0</th>\n",
              "      <td>0.000000</td>\n",
              "      <td>0.000000</td>\n",
              "      <td>0.138629</td>\n",
              "      <td>0.138629</td>\n",
              "      <td>0.000000</td>\n",
              "      <td>0.000000</td>\n",
              "      <td>0.138629</td>\n",
              "      <td>0.0</td>\n",
              "      <td>0.000000</td>\n",
              "      <td>0.0</td>\n",
              "    </tr>\n",
              "    <tr>\n",
              "      <th>1</th>\n",
              "      <td>0.086643</td>\n",
              "      <td>0.086643</td>\n",
              "      <td>0.000000</td>\n",
              "      <td>0.000000</td>\n",
              "      <td>0.086643</td>\n",
              "      <td>0.086643</td>\n",
              "      <td>0.000000</td>\n",
              "      <td>0.0</td>\n",
              "      <td>0.086643</td>\n",
              "      <td>0.0</td>\n",
              "    </tr>\n",
              "  </tbody>\n",
              "</table>\n",
              "</div>"
            ],
            "text/plain": [
              "     fourth       Sun    Planet   Jupiter    planet      Mars   largest  the  \\\n",
              "0  0.000000  0.000000  0.138629  0.138629  0.000000  0.000000  0.138629  0.0   \n",
              "1  0.086643  0.086643  0.000000  0.000000  0.086643  0.086643  0.000000  0.0   \n",
              "\n",
              "       from   is  \n",
              "0  0.000000  0.0  \n",
              "1  0.086643  0.0  "
            ]
          },
          "execution_count": 30,
          "metadata": {},
          "output_type": "execute_result"
        }
      ],
      "source": [
        "def computeTFIDF(tfBagOfWords, idfs):\n",
        "  tfidf = {}\n",
        "  for word, val in tfBagOfWords.items():\n",
        "    tfidf[word] = val * idfs[word]\n",
        "  return tfidf\n",
        "tfidfA = computeTFIDF(tfA, idfs)\n",
        "tfidfB = computeTFIDF(tfB, idfs)\n",
        "df = pd.DataFrame([tfidfA, tfidfB])\n",
        "df"
      ]
    }
  ],
  "metadata": {
    "colab": {
      "provenance": []
    },
    "kernelspec": {
      "display_name": "Python 3",
      "name": "python3"
    },
    "language_info": {
      "codemirror_mode": {
        "name": "ipython",
        "version": 3
      },
      "file_extension": ".py",
      "mimetype": "text/x-python",
      "name": "python",
      "nbconvert_exporter": "python",
      "pygments_lexer": "ipython3",
      "version": "3.9.13"
    }
  },
  "nbformat": 4,
  "nbformat_minor": 0
}
